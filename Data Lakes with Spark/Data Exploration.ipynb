{
 "cells": [
  {
   "cell_type": "markdown",
   "metadata": {
    "editable": true
   },
   "source": [
    "# Set Up Local Spark Session"
   ]
  },
  {
   "cell_type": "code",
   "execution_count": 2,
   "metadata": {
    "editable": true
   },
   "outputs": [],
   "source": [
    "# Import libraries\n",
    "import configparser\n",
    "from datetime import datetime\n",
    "import os\n",
    "from pyspark.sql import SparkSession\n",
    "from pyspark.sql.functions import udf, col\n",
    "from pyspark.sql.functions import year, month, dayofmonth, hour, weekofyear, date_format"
   ]
  },
  {
   "cell_type": "code",
   "execution_count": 3,
   "metadata": {
    "editable": true
   },
   "outputs": [],
   "source": [
    "# Config\n",
    "config = configparser.ConfigParser()\n",
    "config.read('dl.cfg')\n",
    "\n",
    "os.environ['AWS_ACCESS_KEY_ID']=config.get(\"AWS\", 'AWS_ACCESS_KEY_ID')\n",
    "os.environ['AWS_SECRET_ACCESS_KEY']=config.get(\"AWS\",'AWS_SECRET_ACCESS_KEY')"
   ]
  },
  {
   "cell_type": "code",
   "execution_count": 4,
   "metadata": {
    "editable": true
   },
   "outputs": [],
   "source": [
    "# Start spark sessions\n",
    "spark = SparkSession \\\n",
    "        .builder \\\n",
    "        .config(\"spark.jars.packages\", \"org.apache.hadoop:hadoop-aws:2.7.0\") \\\n",
    "        .getOrCreate()"
   ]
  },
  {
   "cell_type": "markdown",
   "metadata": {
    "editable": true
   },
   "source": [
    "## Useful functions"
   ]
  },
  {
   "cell_type": "code",
   "execution_count": 7,
   "metadata": {
    "editable": true
   },
   "outputs": [],
   "source": [
    "# Read song_data from S3\n",
    "song_data_read_path = \"s3a://udacity-dend/song_data/A/A/A/*.json\"\n",
    "song_df = spark.read.json(song_data_read_path)"
   ]
  },
  {
   "cell_type": "code",
   "execution_count": 8,
   "metadata": {
    "editable": true
   },
   "outputs": [
    {
     "name": "stdout",
     "output_type": "stream",
     "text": [
      "root\n",
      " |-- artist_id: string (nullable = true)\n",
      " |-- artist_latitude: double (nullable = true)\n",
      " |-- artist_location: string (nullable = true)\n",
      " |-- artist_longitude: double (nullable = true)\n",
      " |-- artist_name: string (nullable = true)\n",
      " |-- duration: double (nullable = true)\n",
      " |-- num_songs: long (nullable = true)\n",
      " |-- song_id: string (nullable = true)\n",
      " |-- title: string (nullable = true)\n",
      " |-- year: long (nullable = true)\n",
      "\n"
     ]
    }
   ],
   "source": [
    "# Get schema\n",
    "# song_df.describe()\n",
    "song_df.printSchema()"
   ]
  },
  {
   "cell_type": "code",
   "execution_count": 10,
   "metadata": {
    "editable": true
   },
   "outputs": [
    {
     "name": "stdout",
     "output_type": "stream",
     "text": [
      "+------------------+---------------+--------------------+----------------+------------------+---------+---------+------------------+--------------------+----+\n",
      "|         artist_id|artist_latitude|     artist_location|artist_longitude|       artist_name| duration|num_songs|           song_id|               title|year|\n",
      "+------------------+---------------+--------------------+----------------+------------------+---------+---------+------------------+--------------------+----+\n",
      "|ARTC1LV1187B9A4858|        51.4536|Goldsmith's Colle...|        -0.01802|The Bonzo Dog Band|301.40036|        1|SOAFBCP12A8C13CC7D|King Of Scurf (20...|1972|\n",
      "|ARA23XO1187B9AF18F|       40.57885|Carteret, New Jersey|       -74.21956|   The Smithereens|  192.522|        1|SOKTJDS12AF72A25E5|Drown In My Own T...|   0|\n",
      "+------------------+---------------+--------------------+----------------+------------------+---------+---------+------------------+--------------------+----+\n",
      "only showing top 2 rows\n",
      "\n"
     ]
    }
   ],
   "source": [
    "# Show first 2 rows\n",
    "# song_df.take(2)\n",
    "song_df.show(n=2)"
   ]
  },
  {
   "cell_type": "code",
   "execution_count": 30,
   "metadata": {
    "editable": true
   },
   "outputs": [
    {
     "data": {
      "text/html": [
       "<div>\n",
       "<style scoped>\n",
       "    .dataframe tbody tr th:only-of-type {\n",
       "        vertical-align: middle;\n",
       "    }\n",
       "\n",
       "    .dataframe tbody tr th {\n",
       "        vertical-align: top;\n",
       "    }\n",
       "\n",
       "    .dataframe thead th {\n",
       "        text-align: right;\n",
       "    }\n",
       "</style>\n",
       "<table border=\"1\" class=\"dataframe\">\n",
       "  <thead>\n",
       "    <tr style=\"text-align: right;\">\n",
       "      <th></th>\n",
       "      <th>artist_id</th>\n",
       "      <th>artist_latitude</th>\n",
       "      <th>artist_location</th>\n",
       "      <th>artist_longitude</th>\n",
       "      <th>artist_name</th>\n",
       "      <th>duration</th>\n",
       "      <th>num_songs</th>\n",
       "      <th>song_id</th>\n",
       "      <th>title</th>\n",
       "      <th>year</th>\n",
       "    </tr>\n",
       "  </thead>\n",
       "  <tbody>\n",
       "    <tr>\n",
       "      <th>0</th>\n",
       "      <td>ARTC1LV1187B9A4858</td>\n",
       "      <td>51.45360</td>\n",
       "      <td>Goldsmith's College, Lewisham, Lo</td>\n",
       "      <td>-0.01802</td>\n",
       "      <td>The Bonzo Dog Band</td>\n",
       "      <td>301.40036</td>\n",
       "      <td>1</td>\n",
       "      <td>SOAFBCP12A8C13CC7D</td>\n",
       "      <td>King Of Scurf (2007 Digital Remaster)</td>\n",
       "      <td>1972</td>\n",
       "    </tr>\n",
       "    <tr>\n",
       "      <th>1</th>\n",
       "      <td>ARA23XO1187B9AF18F</td>\n",
       "      <td>40.57885</td>\n",
       "      <td>Carteret, New Jersey</td>\n",
       "      <td>-74.21956</td>\n",
       "      <td>The Smithereens</td>\n",
       "      <td>192.52200</td>\n",
       "      <td>1</td>\n",
       "      <td>SOKTJDS12AF72A25E5</td>\n",
       "      <td>Drown In My Own Tears (24-Bit Digitally Remast...</td>\n",
       "      <td>0</td>\n",
       "    </tr>\n",
       "    <tr>\n",
       "      <th>2</th>\n",
       "      <td>ARSVTNL1187B992A91</td>\n",
       "      <td>51.50632</td>\n",
       "      <td>London, England</td>\n",
       "      <td>-0.12714</td>\n",
       "      <td>Jonathan King</td>\n",
       "      <td>129.85424</td>\n",
       "      <td>1</td>\n",
       "      <td>SOEKAZG12AB018837E</td>\n",
       "      <td>I'll Slap Your Face (Entertainment USA Theme)</td>\n",
       "      <td>2001</td>\n",
       "    </tr>\n",
       "    <tr>\n",
       "      <th>3</th>\n",
       "      <td>AR73AIO1187B9AD57B</td>\n",
       "      <td>37.77916</td>\n",
       "      <td>San Francisco, CA</td>\n",
       "      <td>-122.42005</td>\n",
       "      <td>Western Addiction</td>\n",
       "      <td>118.07302</td>\n",
       "      <td>1</td>\n",
       "      <td>SOQPWCR12A6D4FB2A3</td>\n",
       "      <td>A Poor Recipe For Civic Cohesion</td>\n",
       "      <td>2005</td>\n",
       "    </tr>\n",
       "    <tr>\n",
       "      <th>4</th>\n",
       "      <td>ARXQBR11187B98A2CC</td>\n",
       "      <td>NaN</td>\n",
       "      <td>Liverpool, England</td>\n",
       "      <td>NaN</td>\n",
       "      <td>Frankie Goes To Hollywood</td>\n",
       "      <td>821.05424</td>\n",
       "      <td>1</td>\n",
       "      <td>SOBRKGM12A8C139EF6</td>\n",
       "      <td>Welcome to the Pleasuredome</td>\n",
       "      <td>1985</td>\n",
       "    </tr>\n",
       "  </tbody>\n",
       "</table>\n",
       "</div>"
      ],
      "text/plain": [
       "            artist_id  artist_latitude                    artist_location  \\\n",
       "0  ARTC1LV1187B9A4858         51.45360  Goldsmith's College, Lewisham, Lo   \n",
       "1  ARA23XO1187B9AF18F         40.57885               Carteret, New Jersey   \n",
       "2  ARSVTNL1187B992A91         51.50632                    London, England   \n",
       "3  AR73AIO1187B9AD57B         37.77916                  San Francisco, CA   \n",
       "4  ARXQBR11187B98A2CC              NaN                 Liverpool, England   \n",
       "\n",
       "   artist_longitude                artist_name   duration  num_songs  \\\n",
       "0          -0.01802         The Bonzo Dog Band  301.40036          1   \n",
       "1         -74.21956            The Smithereens  192.52200          1   \n",
       "2          -0.12714              Jonathan King  129.85424          1   \n",
       "3        -122.42005          Western Addiction  118.07302          1   \n",
       "4               NaN  Frankie Goes To Hollywood  821.05424          1   \n",
       "\n",
       "              song_id                                              title  year  \n",
       "0  SOAFBCP12A8C13CC7D              King Of Scurf (2007 Digital Remaster)  1972  \n",
       "1  SOKTJDS12AF72A25E5  Drown In My Own Tears (24-Bit Digitally Remast...     0  \n",
       "2  SOEKAZG12AB018837E      I'll Slap Your Face (Entertainment USA Theme)  2001  \n",
       "3  SOQPWCR12A6D4FB2A3                   A Poor Recipe For Civic Cohesion  2005  \n",
       "4  SOBRKGM12A8C139EF6                        Welcome to the Pleasuredome  1985  "
      ]
     },
     "execution_count": 30,
     "metadata": {},
     "output_type": "execute_result"
    }
   ],
   "source": [
    "# Convert to dataframe\n",
    "song_df.toPandas().head()"
   ]
  },
  {
   "cell_type": "code",
   "execution_count": 17,
   "metadata": {
    "editable": true
   },
   "outputs": [
    {
     "name": "stdout",
     "output_type": "stream",
     "text": [
      "+-------+------------------+\n",
      "|summary|         artist_id|\n",
      "+-------+------------------+\n",
      "|  count|                24|\n",
      "|   mean|              null|\n",
      "| stddev|              null|\n",
      "|    min|AR0MWD61187B9B2B12|\n",
      "|    max|ARZKCQM1257509D107|\n",
      "+-------+------------------+\n",
      "\n"
     ]
    }
   ],
   "source": [
    "# Describe columns\n",
    "# song_df.count()\n",
    "song_df.describe(\"artist_id\").show()"
   ]
  },
  {
   "cell_type": "code",
   "execution_count": 27,
   "metadata": {
    "editable": true
   },
   "outputs": [
    {
     "name": "stdout",
     "output_type": "stream",
     "text": [
      "+---------+\n",
      "|num_songs|\n",
      "+---------+\n",
      "|        1|\n",
      "+---------+\n",
      "\n"
     ]
    }
   ],
   "source": [
    "# See unique values\n",
    "song_df.select(\"num_songs\").dropDuplicates().sort(\"num_songs\").show()"
   ]
  },
  {
   "cell_type": "code",
   "execution_count": 21,
   "metadata": {
    "editable": true
   },
   "outputs": [
    {
     "data": {
      "text/plain": [
       "[Row(title='Drown In My Own Tears (24-Bit Digitally Remastered 04)', artist_name='The Smithereens'),\n",
       " Row(title=\"I'll Slap Your Face (Entertainment USA Theme)\", artist_name='Jonathan King'),\n",
       " Row(title='A Poor Recipe For Civic Cohesion', artist_name='Western Addiction'),\n",
       " Row(title='Drop of Rain', artist_name='Tweeterfriendly Music'),\n",
       " Row(title='The One And Only (Edited)', artist_name='Snoop Dogg'),\n",
       " Row(title='I Want You (Album Version)', artist_name='Paris Hilton'),\n",
       " Row(title='Take Time', artist_name='Chaka Khan_ Rufus'),\n",
       " Row(title='Indian Angel', artist_name='Talkdemonic'),\n",
       " Row(title='Into The Nightlife', artist_name='Cyndi Lauper'),\n",
       " Row(title='Soul Deep', artist_name='The Box Tops'),\n",
       " Row(title='Smash It Up', artist_name='International Noise Conspiracy'),\n",
       " Row(title='Burn My Body (Album Version)', artist_name='Broken Spindles'),\n",
       " Row(title='Hit Da Scene', artist_name='Quest_ Pup_ Kevo'),\n",
       " Row(title='Double Wide', artist_name='The Supersuckers'),\n",
       " Row(title=\"It's About Time\", artist_name='Jamie Cullum'),\n",
       " Row(title='Scream', artist_name='Adelitas Way'),\n",
       " Row(title='Face the Ashes', artist_name='Gob')]"
      ]
     },
     "execution_count": 21,
     "metadata": {},
     "output_type": "execute_result"
    }
   ],
   "source": [
    "# Filter\n",
    "song_df.select([\"title\", \"artist_name\"]).where(song_df.duration < 300).orderBy(song_df.title).collect()\n",
    "song_df.select([\"title\", \"artist_name\"]).filter(song_df.duration < 300).collect()"
   ]
  },
  {
   "cell_type": "markdown",
   "metadata": {
    "editable": true
   },
   "source": [
    "## Song Data"
   ]
  },
  {
   "cell_type": "code",
   "execution_count": 8,
   "metadata": {
    "editable": true
   },
   "outputs": [
    {
     "name": "stdout",
     "output_type": "stream",
     "text": [
      "root\n",
      " |-- artist_id: string (nullable = true)\n",
      " |-- artist_latitude: double (nullable = true)\n",
      " |-- artist_location: string (nullable = true)\n",
      " |-- artist_longitude: double (nullable = true)\n",
      " |-- artist_name: string (nullable = true)\n",
      " |-- duration: double (nullable = true)\n",
      " |-- num_songs: long (nullable = true)\n",
      " |-- song_id: string (nullable = true)\n",
      " |-- title: string (nullable = true)\n",
      " |-- year: long (nullable = true)\n",
      "\n"
     ]
    }
   ],
   "source": [
    "# Read song_data from S3\n",
    "song_data_read_path = \"s3a://udacity-dend/song_data/A/A/A/*.json\"\n",
    "song_df = spark.read.json(song_data_read_path)\n",
    "\n",
    "song_df.printSchema()"
   ]
  },
  {
   "cell_type": "code",
   "execution_count": 7,
   "metadata": {
    "editable": true
   },
   "outputs": [],
   "source": [
    "# Create table\n",
    "song_df.createOrReplaceTempView(\"staging_songs\")"
   ]
  },
  {
   "cell_type": "code",
   "execution_count": 24,
   "metadata": {
    "editable": true
   },
   "outputs": [
    {
     "name": "stdout",
     "output_type": "stream",
     "text": [
      "+------------------+--------------------+------------------+----+---------+\n",
      "|           song_id|               title|         artist_id|year| duration|\n",
      "+------------------+--------------------+------------------+----+---------+\n",
      "|SOAFBCP12A8C13CC7D|King Of Scurf (20...|ARTC1LV1187B9A4858|1972|301.40036|\n",
      "|SOKTJDS12AF72A25E5|Drown In My Own T...|ARA23XO1187B9AF18F|null|  192.522|\n",
      "|SOEKAZG12AB018837E|I'll Slap Your Fa...|ARSVTNL1187B992A91|2001|129.85424|\n",
      "|SOQPWCR12A6D4FB2A3|A Poor Recipe For...|AR73AIO1187B9AD57B|2005|118.07302|\n",
      "|SOBRKGM12A8C139EF6|Welcome to the Pl...|ARXQBR11187B98A2CC|1985|821.05424|\n",
      "|SORRNOC12AB017F52B|The Last Beat Of ...|ARSZ7L31187FB4E610|2004|337.81506|\n",
      "|SOHKNRJ12A6701D1F8|        Drop of Rain|AR10USD1187B99F3F1|null|189.57016|\n",
      "|SOAPERH12A58A787DC|The One And Only ...|ARZ5H0P1187B98A1DD|null|230.42567|\n",
      "|SOSMJFC12A8C13DE0C|Is That All There...|AR1KTV21187B9ACD72|null|343.87546|\n",
      "|SOOVHYF12A8C134892|     I'll Be Waiting|ARCLYBR1187FB53913|1989|304.56118|\n",
      "|SOERIDA12A6D4F8506|I Want You (Album...|ARBZIN01187FB362CC|2006|192.28689|\n",
      "|SOABWAP12A8C13F82A|           Take Time|AR5LMPY1187FB573FE|1978|258.89914|\n",
      "|SOIGHOD12A8C13B5A1|        Indian Angel|ARY589G1187B9A9F4E|2004|171.57179|\n",
      "|SONRWUU12AF72A4283|  Into The Nightlife|ARGE7G11187FB37E05|2008|240.63955|\n",
      "|SOCIWDW12A8C13D406|           Soul Deep|ARMJAGH1187FB546F3|1969|148.03546|\n",
      "|SOHOZBI12A8C132E3C|         Smash It Up|AR0MWD61187B9B2B12|2000|195.39546|\n",
      "|SODZYPO12A8C13A91E|Burn My Body (Alb...|AR1C2IX1187B99BF74|null|177.99791|\n",
      "|SOFRDWL12A58A7CEF7|        Hit Da Scene|AR9Q9YC1187FB5609B|null|252.94322|\n",
      "|SONQPZK12AB0182D84|         Double Wide|ARKYKXP11F50C47A6A|null|160.20853|\n",
      "|SOXZYWX12A6310ED0C|     It's About Time|ARC1IHZ1187FB4E920|null| 246.9873|\n",
      "+------------------+--------------------+------------------+----+---------+\n",
      "only showing top 20 rows\n",
      "\n"
     ]
    }
   ],
   "source": [
    "songs = spark.sql(\"\"\"\n",
    "SELECT\n",
    "    song_id, \n",
    "    title,\n",
    "    artist_id,\n",
    "    CASE WHEN year < 1900 THEN NULL ELSE year END AS year,\n",
    "    duration\n",
    "FROM staging_songs\n",
    "WHERE song_id IS NOT NULL\n",
    "\"\"\")\n",
    "\n",
    "songs.show()"
   ]
  },
  {
   "cell_type": "code",
   "execution_count": 27,
   "metadata": {
    "editable": true
   },
   "outputs": [
    {
     "data": {
      "text/html": [
       "<div>\n",
       "<style scoped>\n",
       "    .dataframe tbody tr th:only-of-type {\n",
       "        vertical-align: middle;\n",
       "    }\n",
       "\n",
       "    .dataframe tbody tr th {\n",
       "        vertical-align: top;\n",
       "    }\n",
       "\n",
       "    .dataframe thead th {\n",
       "        text-align: right;\n",
       "    }\n",
       "</style>\n",
       "<table border=\"1\" class=\"dataframe\">\n",
       "  <thead>\n",
       "    <tr style=\"text-align: right;\">\n",
       "      <th></th>\n",
       "      <th>song_id</th>\n",
       "      <th>title</th>\n",
       "      <th>artist_id</th>\n",
       "      <th>year</th>\n",
       "      <th>duration</th>\n",
       "    </tr>\n",
       "  </thead>\n",
       "  <tbody>\n",
       "    <tr>\n",
       "      <th>0</th>\n",
       "      <td>SOAFBCP12A8C13CC7D</td>\n",
       "      <td>King Of Scurf (2007 Digital Remaster)</td>\n",
       "      <td>ARTC1LV1187B9A4858</td>\n",
       "      <td>1972.0</td>\n",
       "      <td>301.40036</td>\n",
       "    </tr>\n",
       "    <tr>\n",
       "      <th>1</th>\n",
       "      <td>SOKTJDS12AF72A25E5</td>\n",
       "      <td>Drown In My Own Tears (24-Bit Digitally Remast...</td>\n",
       "      <td>ARA23XO1187B9AF18F</td>\n",
       "      <td>NaN</td>\n",
       "      <td>192.52200</td>\n",
       "    </tr>\n",
       "    <tr>\n",
       "      <th>2</th>\n",
       "      <td>SOEKAZG12AB018837E</td>\n",
       "      <td>I'll Slap Your Face (Entertainment USA Theme)</td>\n",
       "      <td>ARSVTNL1187B992A91</td>\n",
       "      <td>2001.0</td>\n",
       "      <td>129.85424</td>\n",
       "    </tr>\n",
       "    <tr>\n",
       "      <th>3</th>\n",
       "      <td>SOQPWCR12A6D4FB2A3</td>\n",
       "      <td>A Poor Recipe For Civic Cohesion</td>\n",
       "      <td>AR73AIO1187B9AD57B</td>\n",
       "      <td>2005.0</td>\n",
       "      <td>118.07302</td>\n",
       "    </tr>\n",
       "    <tr>\n",
       "      <th>4</th>\n",
       "      <td>SOBRKGM12A8C139EF6</td>\n",
       "      <td>Welcome to the Pleasuredome</td>\n",
       "      <td>ARXQBR11187B98A2CC</td>\n",
       "      <td>1985.0</td>\n",
       "      <td>821.05424</td>\n",
       "    </tr>\n",
       "  </tbody>\n",
       "</table>\n",
       "</div>"
      ],
      "text/plain": [
       "              song_id                                              title  \\\n",
       "0  SOAFBCP12A8C13CC7D              King Of Scurf (2007 Digital Remaster)   \n",
       "1  SOKTJDS12AF72A25E5  Drown In My Own Tears (24-Bit Digitally Remast...   \n",
       "2  SOEKAZG12AB018837E      I'll Slap Your Face (Entertainment USA Theme)   \n",
       "3  SOQPWCR12A6D4FB2A3                   A Poor Recipe For Civic Cohesion   \n",
       "4  SOBRKGM12A8C139EF6                        Welcome to the Pleasuredome   \n",
       "\n",
       "            artist_id    year   duration  \n",
       "0  ARTC1LV1187B9A4858  1972.0  301.40036  \n",
       "1  ARA23XO1187B9AF18F     NaN  192.52200  \n",
       "2  ARSVTNL1187B992A91  2001.0  129.85424  \n",
       "3  AR73AIO1187B9AD57B  2005.0  118.07302  \n",
       "4  ARXQBR11187B98A2CC  1985.0  821.05424  "
      ]
     },
     "execution_count": 27,
     "metadata": {},
     "output_type": "execute_result"
    }
   ],
   "source": [
    "songs.toPandas().head()"
   ]
  },
  {
   "cell_type": "code",
   "execution_count": 15,
   "metadata": {
    "editable": true
   },
   "outputs": [
    {
     "name": "stdout",
     "output_type": "stream",
     "text": [
      "+------------------+--------------------+--------------------+---------------+----------------+\n",
      "|         artist_id|         artist_name|     artist_location|artist_latitude|artist_longitude|\n",
      "+------------------+--------------------+--------------------+---------------+----------------+\n",
      "|ARTC1LV1187B9A4858|  The Bonzo Dog Band|Goldsmith's Colle...|        51.4536|        -0.01802|\n",
      "|ARA23XO1187B9AF18F|     The Smithereens|Carteret, New Jersey|       40.57885|       -74.21956|\n",
      "|ARSVTNL1187B992A91|       Jonathan King|     London, England|       51.50632|        -0.12714|\n",
      "|AR73AIO1187B9AD57B|   Western Addiction|   San Francisco, CA|       37.77916|      -122.42005|\n",
      "|ARXQBR11187B98A2CC|Frankie Goes To H...|  Liverpool, England|           null|            null|\n",
      "|ARSZ7L31187FB4E610|           Devotchka|          Denver, CO|       39.74001|      -104.99226|\n",
      "|AR10USD1187B99F3F1|Tweeterfriendly M...|Burlington, Ontar...|           null|            null|\n",
      "|ARZ5H0P1187B98A1DD|          Snoop Dogg|      Long Beach, CA|       33.76672|       -118.1924|\n",
      "|AR1KTV21187B9ACD72|            Cristina|     California - LA|       34.05349|      -118.24532|\n",
      "|ARCLYBR1187FB53913|          Neal Schon|       San Mateo, CA|       37.54703|      -122.31483|\n",
      "|ARBZIN01187FB362CC|        Paris Hilton|                  27|        1.32026|       103.78871|\n",
      "|AR5LMPY1187FB573FE|   Chaka Khan_ Rufus|         Chicago, IL|       41.88415|       -87.63241|\n",
      "|ARY589G1187B9A9F4E|         Talkdemonic|        Portland, OR|       45.51179|      -122.67563|\n",
      "|ARGE7G11187FB37E05|        Cyndi Lauper|        Brooklyn, NY|           null|            null|\n",
      "|ARMJAGH1187FB546F3|        The Box Tops|         Memphis, TN|       35.14968|       -90.04892|\n",
      "|AR0MWD61187B9B2B12|International Noi...|                null|           null|            null|\n",
      "|AR1C2IX1187B99BF74|     Broken Spindles|                null|           null|            null|\n",
      "|AR9Q9YC1187FB5609B|    Quest_ Pup_ Kevo|          New Jersey|           null|            null|\n",
      "|ARKYKXP11F50C47A6A|    The Supersuckers|                null|           null|            null|\n",
      "|ARC1IHZ1187FB4E920|        Jamie Cullum|                null|           null|            null|\n",
      "+------------------+--------------------+--------------------+---------------+----------------+\n",
      "only showing top 20 rows\n",
      "\n"
     ]
    }
   ],
   "source": [
    "artists = spark.sql(\n",
    "\"\"\"\n",
    "SELECT \n",
    "    artist_id,\n",
    "    artist_name,\n",
    "    NULLIF(artist_location,'') AS artist_location,\n",
    "    artist_latitude,\n",
    "    artist_longitude\n",
    "FROM staging_songs\n",
    "WHERE artist_id IS NOT NULL\n",
    "\"\"\")\n",
    "\n",
    "artists.show()"
   ]
  },
  {
   "cell_type": "markdown",
   "metadata": {
    "editable": true
   },
   "source": [
    "## Event Data"
   ]
  },
  {
   "cell_type": "code",
   "execution_count": 74,
   "metadata": {
    "editable": true
   },
   "outputs": [
    {
     "name": "stdout",
     "output_type": "stream",
     "text": [
      "root\n",
      " |-- artist: string (nullable = true)\n",
      " |-- auth: string (nullable = true)\n",
      " |-- firstName: string (nullable = true)\n",
      " |-- gender: string (nullable = true)\n",
      " |-- itemInSession: long (nullable = true)\n",
      " |-- lastName: string (nullable = true)\n",
      " |-- length: double (nullable = true)\n",
      " |-- level: string (nullable = true)\n",
      " |-- location: string (nullable = true)\n",
      " |-- method: string (nullable = true)\n",
      " |-- page: string (nullable = true)\n",
      " |-- registration: double (nullable = true)\n",
      " |-- sessionId: long (nullable = true)\n",
      " |-- song: string (nullable = true)\n",
      " |-- status: long (nullable = true)\n",
      " |-- ts: long (nullable = true)\n",
      " |-- userAgent: string (nullable = true)\n",
      " |-- userId: string (nullable = true)\n",
      "\n"
     ]
    }
   ],
   "source": [
    "# Read log_data from S3\n",
    "log_data_read_path = \"s3a://udacity-dend/log_data/2018/11/2018-11-13-events.json\"\n",
    "log_df = spark.read.json(log_data_read_path)\n",
    "\n",
    "log_df.printSchema()"
   ]
  },
  {
   "cell_type": "code",
   "execution_count": 75,
   "metadata": {
    "editable": true
   },
   "outputs": [],
   "source": [
    "# Create table\n",
    "log_df.createOrReplaceTempView(\"staging_events\")"
   ]
  },
  {
   "cell_type": "code",
   "execution_count": 76,
   "metadata": {
    "editable": true
   },
   "outputs": [
    {
     "data": {
      "text/html": [
       "<div>\n",
       "<style scoped>\n",
       "    .dataframe tbody tr th:only-of-type {\n",
       "        vertical-align: middle;\n",
       "    }\n",
       "\n",
       "    .dataframe tbody tr th {\n",
       "        vertical-align: top;\n",
       "    }\n",
       "\n",
       "    .dataframe thead th {\n",
       "        text-align: right;\n",
       "    }\n",
       "</style>\n",
       "<table border=\"1\" class=\"dataframe\">\n",
       "  <thead>\n",
       "    <tr style=\"text-align: right;\">\n",
       "      <th></th>\n",
       "      <th>artist</th>\n",
       "      <th>auth</th>\n",
       "      <th>firstName</th>\n",
       "      <th>gender</th>\n",
       "      <th>itemInSession</th>\n",
       "      <th>lastName</th>\n",
       "      <th>length</th>\n",
       "      <th>level</th>\n",
       "      <th>location</th>\n",
       "      <th>method</th>\n",
       "      <th>page</th>\n",
       "      <th>registration</th>\n",
       "      <th>sessionId</th>\n",
       "      <th>song</th>\n",
       "      <th>status</th>\n",
       "      <th>ts</th>\n",
       "      <th>userAgent</th>\n",
       "      <th>userId</th>\n",
       "    </tr>\n",
       "  </thead>\n",
       "  <tbody>\n",
       "    <tr>\n",
       "      <th>0</th>\n",
       "      <td>None</td>\n",
       "      <td>Logged In</td>\n",
       "      <td>Kevin</td>\n",
       "      <td>M</td>\n",
       "      <td>0</td>\n",
       "      <td>Arellano</td>\n",
       "      <td>NaN</td>\n",
       "      <td>free</td>\n",
       "      <td>Harrisburg-Carlisle, PA</td>\n",
       "      <td>GET</td>\n",
       "      <td>Home</td>\n",
       "      <td>1.540007e+12</td>\n",
       "      <td>514</td>\n",
       "      <td>None</td>\n",
       "      <td>200</td>\n",
       "      <td>1542069417796</td>\n",
       "      <td>\"Mozilla/5.0 (Macintosh; Intel Mac OS X 10_9_4...</td>\n",
       "      <td>66</td>\n",
       "    </tr>\n",
       "    <tr>\n",
       "      <th>1</th>\n",
       "      <td>Fu</td>\n",
       "      <td>Logged In</td>\n",
       "      <td>Kevin</td>\n",
       "      <td>M</td>\n",
       "      <td>1</td>\n",
       "      <td>Arellano</td>\n",
       "      <td>280.05832</td>\n",
       "      <td>free</td>\n",
       "      <td>Harrisburg-Carlisle, PA</td>\n",
       "      <td>PUT</td>\n",
       "      <td>NextSong</td>\n",
       "      <td>1.540007e+12</td>\n",
       "      <td>514</td>\n",
       "      <td>Ja I Ty</td>\n",
       "      <td>200</td>\n",
       "      <td>1542069637796</td>\n",
       "      <td>\"Mozilla/5.0 (Macintosh; Intel Mac OS X 10_9_4...</td>\n",
       "      <td>66</td>\n",
       "    </tr>\n",
       "    <tr>\n",
       "      <th>2</th>\n",
       "      <td>None</td>\n",
       "      <td>Logged In</td>\n",
       "      <td>Maia</td>\n",
       "      <td>F</td>\n",
       "      <td>0</td>\n",
       "      <td>Burke</td>\n",
       "      <td>NaN</td>\n",
       "      <td>free</td>\n",
       "      <td>Houston-The Woodlands-Sugar Land, TX</td>\n",
       "      <td>GET</td>\n",
       "      <td>Home</td>\n",
       "      <td>1.540677e+12</td>\n",
       "      <td>510</td>\n",
       "      <td>None</td>\n",
       "      <td>200</td>\n",
       "      <td>1542071524796</td>\n",
       "      <td>\"Mozilla/5.0 (Windows NT 6.3; WOW64) AppleWebK...</td>\n",
       "      <td>51</td>\n",
       "    </tr>\n",
       "    <tr>\n",
       "      <th>3</th>\n",
       "      <td>All Time Low</td>\n",
       "      <td>Logged In</td>\n",
       "      <td>Maia</td>\n",
       "      <td>F</td>\n",
       "      <td>1</td>\n",
       "      <td>Burke</td>\n",
       "      <td>177.84118</td>\n",
       "      <td>free</td>\n",
       "      <td>Houston-The Woodlands-Sugar Land, TX</td>\n",
       "      <td>PUT</td>\n",
       "      <td>NextSong</td>\n",
       "      <td>1.540677e+12</td>\n",
       "      <td>510</td>\n",
       "      <td>A Party Song (The Walk of Shame)</td>\n",
       "      <td>200</td>\n",
       "      <td>1542071549796</td>\n",
       "      <td>\"Mozilla/5.0 (Windows NT 6.3; WOW64) AppleWebK...</td>\n",
       "      <td>51</td>\n",
       "    </tr>\n",
       "    <tr>\n",
       "      <th>4</th>\n",
       "      <td>Nik &amp; Jay</td>\n",
       "      <td>Logged In</td>\n",
       "      <td>Wyatt</td>\n",
       "      <td>M</td>\n",
       "      <td>0</td>\n",
       "      <td>Scott</td>\n",
       "      <td>196.51873</td>\n",
       "      <td>free</td>\n",
       "      <td>Eureka-Arcata-Fortuna, CA</td>\n",
       "      <td>PUT</td>\n",
       "      <td>NextSong</td>\n",
       "      <td>1.540872e+12</td>\n",
       "      <td>379</td>\n",
       "      <td>Pop-Pop!</td>\n",
       "      <td>200</td>\n",
       "      <td>1542079142796</td>\n",
       "      <td>Mozilla/5.0 (Windows NT 6.1; WOW64; Trident/7....</td>\n",
       "      <td>9</td>\n",
       "    </tr>\n",
       "  </tbody>\n",
       "</table>\n",
       "</div>"
      ],
      "text/plain": [
       "         artist       auth firstName gender  itemInSession  lastName  \\\n",
       "0          None  Logged In     Kevin      M              0  Arellano   \n",
       "1            Fu  Logged In     Kevin      M              1  Arellano   \n",
       "2          None  Logged In      Maia      F              0     Burke   \n",
       "3  All Time Low  Logged In      Maia      F              1     Burke   \n",
       "4     Nik & Jay  Logged In     Wyatt      M              0     Scott   \n",
       "\n",
       "      length level                              location method      page  \\\n",
       "0        NaN  free               Harrisburg-Carlisle, PA    GET      Home   \n",
       "1  280.05832  free               Harrisburg-Carlisle, PA    PUT  NextSong   \n",
       "2        NaN  free  Houston-The Woodlands-Sugar Land, TX    GET      Home   \n",
       "3  177.84118  free  Houston-The Woodlands-Sugar Land, TX    PUT  NextSong   \n",
       "4  196.51873  free             Eureka-Arcata-Fortuna, CA    PUT  NextSong   \n",
       "\n",
       "   registration  sessionId                              song  status  \\\n",
       "0  1.540007e+12        514                              None     200   \n",
       "1  1.540007e+12        514                           Ja I Ty     200   \n",
       "2  1.540677e+12        510                              None     200   \n",
       "3  1.540677e+12        510  A Party Song (The Walk of Shame)     200   \n",
       "4  1.540872e+12        379                          Pop-Pop!     200   \n",
       "\n",
       "              ts                                          userAgent userId  \n",
       "0  1542069417796  \"Mozilla/5.0 (Macintosh; Intel Mac OS X 10_9_4...     66  \n",
       "1  1542069637796  \"Mozilla/5.0 (Macintosh; Intel Mac OS X 10_9_4...     66  \n",
       "2  1542071524796  \"Mozilla/5.0 (Windows NT 6.3; WOW64) AppleWebK...     51  \n",
       "3  1542071549796  \"Mozilla/5.0 (Windows NT 6.3; WOW64) AppleWebK...     51  \n",
       "4  1542079142796  Mozilla/5.0 (Windows NT 6.1; WOW64; Trident/7....      9  "
      ]
     },
     "execution_count": 76,
     "metadata": {},
     "output_type": "execute_result"
    }
   ],
   "source": [
    "log_df.toPandas().head()"
   ]
  },
  {
   "cell_type": "code",
   "execution_count": 77,
   "metadata": {
    "editable": true
   },
   "outputs": [
    {
     "data": {
      "text/html": [
       "<div>\n",
       "<style scoped>\n",
       "    .dataframe tbody tr th:only-of-type {\n",
       "        vertical-align: middle;\n",
       "    }\n",
       "\n",
       "    .dataframe tbody tr th {\n",
       "        vertical-align: top;\n",
       "    }\n",
       "\n",
       "    .dataframe thead th {\n",
       "        text-align: right;\n",
       "    }\n",
       "</style>\n",
       "<table border=\"1\" class=\"dataframe\">\n",
       "  <thead>\n",
       "    <tr style=\"text-align: right;\">\n",
       "      <th></th>\n",
       "      <th>artist</th>\n",
       "      <th>auth</th>\n",
       "      <th>firstName</th>\n",
       "      <th>gender</th>\n",
       "      <th>itemInSession</th>\n",
       "      <th>lastName</th>\n",
       "      <th>length</th>\n",
       "      <th>level</th>\n",
       "      <th>location</th>\n",
       "      <th>method</th>\n",
       "      <th>page</th>\n",
       "      <th>registration</th>\n",
       "      <th>sessionId</th>\n",
       "      <th>song</th>\n",
       "      <th>status</th>\n",
       "      <th>ts</th>\n",
       "      <th>userAgent</th>\n",
       "      <th>userId</th>\n",
       "      <th>get_hourx(ts)</th>\n",
       "    </tr>\n",
       "  </thead>\n",
       "  <tbody>\n",
       "    <tr>\n",
       "      <th>0</th>\n",
       "      <td>None</td>\n",
       "      <td>Logged In</td>\n",
       "      <td>Kevin</td>\n",
       "      <td>M</td>\n",
       "      <td>0</td>\n",
       "      <td>Arellano</td>\n",
       "      <td>NaN</td>\n",
       "      <td>free</td>\n",
       "      <td>Harrisburg-Carlisle, PA</td>\n",
       "      <td>GET</td>\n",
       "      <td>Home</td>\n",
       "      <td>1.540007e+12</td>\n",
       "      <td>514</td>\n",
       "      <td>None</td>\n",
       "      <td>200</td>\n",
       "      <td>1542069417796</td>\n",
       "      <td>\"Mozilla/5.0 (Macintosh; Intel Mac OS X 10_9_4...</td>\n",
       "      <td>66</td>\n",
       "      <td>11</td>\n",
       "    </tr>\n",
       "    <tr>\n",
       "      <th>1</th>\n",
       "      <td>Fu</td>\n",
       "      <td>Logged In</td>\n",
       "      <td>Kevin</td>\n",
       "      <td>M</td>\n",
       "      <td>1</td>\n",
       "      <td>Arellano</td>\n",
       "      <td>280.05832</td>\n",
       "      <td>free</td>\n",
       "      <td>Harrisburg-Carlisle, PA</td>\n",
       "      <td>PUT</td>\n",
       "      <td>NextSong</td>\n",
       "      <td>1.540007e+12</td>\n",
       "      <td>514</td>\n",
       "      <td>Ja I Ty</td>\n",
       "      <td>200</td>\n",
       "      <td>1542069637796</td>\n",
       "      <td>\"Mozilla/5.0 (Macintosh; Intel Mac OS X 10_9_4...</td>\n",
       "      <td>66</td>\n",
       "      <td>11</td>\n",
       "    </tr>\n",
       "  </tbody>\n",
       "</table>\n",
       "</div>"
      ],
      "text/plain": [
       "  artist       auth firstName gender  itemInSession  lastName     length  \\\n",
       "0   None  Logged In     Kevin      M              0  Arellano        NaN   \n",
       "1     Fu  Logged In     Kevin      M              1  Arellano  280.05832   \n",
       "\n",
       "  level                 location method      page  registration  sessionId  \\\n",
       "0  free  Harrisburg-Carlisle, PA    GET      Home  1.540007e+12        514   \n",
       "1  free  Harrisburg-Carlisle, PA    PUT  NextSong  1.540007e+12        514   \n",
       "\n",
       "      song  status             ts  \\\n",
       "0     None     200  1542069417796   \n",
       "1  Ja I Ty     200  1542069637796   \n",
       "\n",
       "                                           userAgent userId get_hourx(ts)  \n",
       "0  \"Mozilla/5.0 (Macintosh; Intel Mac OS X 10_9_4...     66            11  \n",
       "1  \"Mozilla/5.0 (Macintosh; Intel Mac OS X 10_9_4...     66            11  "
      ]
     },
     "execution_count": 77,
     "metadata": {},
     "output_type": "execute_result"
    }
   ],
   "source": [
    "# UDF method 1\n",
    "spark.udf.register(\"get_hourx\", lambda x: 11)\n",
    "spark.sql(\"select *, get_hourx(ts) from staging_events limit 6\").toPandas().head(2)"
   ]
  },
  {
   "cell_type": "code",
   "execution_count": 78,
   "metadata": {
    "editable": true
   },
   "outputs": [
    {
     "name": "stdout",
     "output_type": "stream",
     "text": [
      "+----+--------+\n",
      "|hour|count(1)|\n",
      "+----+--------+\n",
      "|   0|       2|\n",
      "|   1|       2|\n",
      "|  10|      26|\n",
      "|  11|       5|\n",
      "|  13|      43|\n",
      "|  14|      22|\n",
      "|  15|      23|\n",
      "|  16|      34|\n",
      "|  17|      31|\n",
      "|  18|      18|\n",
      "|  19|      26|\n",
      "|  20|      37|\n",
      "|  21|      29|\n",
      "|  22|      35|\n",
      "|  23|      18|\n",
      "|   3|       2|\n",
      "|   4|       2|\n",
      "|   5|       1|\n",
      "|   6|       3|\n",
      "|   7|       3|\n",
      "+----+--------+\n",
      "only showing top 20 rows\n",
      "\n"
     ]
    }
   ],
   "source": [
    "# UDF method 2\n",
    "get_hour = udf(lambda x: datetime.fromtimestamp(x / 1000.0).hour)\n",
    "log_df = log_df.withColumn(\"hour\", get_hour(log_df.ts))\n",
    "\n",
    "log_df.createOrReplaceTempView(\"staging_events\")\n",
    "spark.sql(\"\"\"SELECT hour, count(*) from staging_events group by 1 order by hour\"\"\").show()"
   ]
  },
  {
   "cell_type": "code",
   "execution_count": 86,
   "metadata": {
    "editable": true
   },
   "outputs": [
    {
     "data": {
      "text/html": [
       "<div>\n",
       "<style scoped>\n",
       "    .dataframe tbody tr th:only-of-type {\n",
       "        vertical-align: middle;\n",
       "    }\n",
       "\n",
       "    .dataframe tbody tr th {\n",
       "        vertical-align: top;\n",
       "    }\n",
       "\n",
       "    .dataframe thead th {\n",
       "        text-align: right;\n",
       "    }\n",
       "</style>\n",
       "<table border=\"1\" class=\"dataframe\">\n",
       "  <thead>\n",
       "    <tr style=\"text-align: right;\">\n",
       "      <th></th>\n",
       "      <th>artist</th>\n",
       "      <th>auth</th>\n",
       "      <th>firstName</th>\n",
       "      <th>gender</th>\n",
       "      <th>itemInSession</th>\n",
       "      <th>lastName</th>\n",
       "      <th>length</th>\n",
       "      <th>level</th>\n",
       "      <th>location</th>\n",
       "      <th>method</th>\n",
       "      <th>page</th>\n",
       "      <th>registration</th>\n",
       "      <th>sessionId</th>\n",
       "      <th>song</th>\n",
       "      <th>status</th>\n",
       "      <th>ts</th>\n",
       "      <th>userAgent</th>\n",
       "      <th>userId</th>\n",
       "      <th>hour</th>\n",
       "      <th>start_time</th>\n",
       "    </tr>\n",
       "  </thead>\n",
       "  <tbody>\n",
       "    <tr>\n",
       "      <th>0</th>\n",
       "      <td>None</td>\n",
       "      <td>Logged In</td>\n",
       "      <td>Kevin</td>\n",
       "      <td>M</td>\n",
       "      <td>0</td>\n",
       "      <td>Arellano</td>\n",
       "      <td>NaN</td>\n",
       "      <td>free</td>\n",
       "      <td>Harrisburg-Carlisle, PA</td>\n",
       "      <td>GET</td>\n",
       "      <td>Home</td>\n",
       "      <td>1.540007e+12</td>\n",
       "      <td>514</td>\n",
       "      <td>None</td>\n",
       "      <td>200</td>\n",
       "      <td>1542069417796</td>\n",
       "      <td>\"Mozilla/5.0 (Macintosh; Intel Mac OS X 10_9_4...</td>\n",
       "      <td>66</td>\n",
       "      <td>0</td>\n",
       "      <td>1.542069417796E9</td>\n",
       "    </tr>\n",
       "    <tr>\n",
       "      <th>1</th>\n",
       "      <td>Fu</td>\n",
       "      <td>Logged In</td>\n",
       "      <td>Kevin</td>\n",
       "      <td>M</td>\n",
       "      <td>1</td>\n",
       "      <td>Arellano</td>\n",
       "      <td>280.05832</td>\n",
       "      <td>free</td>\n",
       "      <td>Harrisburg-Carlisle, PA</td>\n",
       "      <td>PUT</td>\n",
       "      <td>NextSong</td>\n",
       "      <td>1.540007e+12</td>\n",
       "      <td>514</td>\n",
       "      <td>Ja I Ty</td>\n",
       "      <td>200</td>\n",
       "      <td>1542069637796</td>\n",
       "      <td>\"Mozilla/5.0 (Macintosh; Intel Mac OS X 10_9_4...</td>\n",
       "      <td>66</td>\n",
       "      <td>0</td>\n",
       "      <td>1.542069637796E9</td>\n",
       "    </tr>\n",
       "    <tr>\n",
       "      <th>2</th>\n",
       "      <td>None</td>\n",
       "      <td>Logged In</td>\n",
       "      <td>Maia</td>\n",
       "      <td>F</td>\n",
       "      <td>0</td>\n",
       "      <td>Burke</td>\n",
       "      <td>NaN</td>\n",
       "      <td>free</td>\n",
       "      <td>Houston-The Woodlands-Sugar Land, TX</td>\n",
       "      <td>GET</td>\n",
       "      <td>Home</td>\n",
       "      <td>1.540677e+12</td>\n",
       "      <td>510</td>\n",
       "      <td>None</td>\n",
       "      <td>200</td>\n",
       "      <td>1542071524796</td>\n",
       "      <td>\"Mozilla/5.0 (Windows NT 6.3; WOW64) AppleWebK...</td>\n",
       "      <td>51</td>\n",
       "      <td>1</td>\n",
       "      <td>1.542071524796E9</td>\n",
       "    </tr>\n",
       "    <tr>\n",
       "      <th>3</th>\n",
       "      <td>All Time Low</td>\n",
       "      <td>Logged In</td>\n",
       "      <td>Maia</td>\n",
       "      <td>F</td>\n",
       "      <td>1</td>\n",
       "      <td>Burke</td>\n",
       "      <td>177.84118</td>\n",
       "      <td>free</td>\n",
       "      <td>Houston-The Woodlands-Sugar Land, TX</td>\n",
       "      <td>PUT</td>\n",
       "      <td>NextSong</td>\n",
       "      <td>1.540677e+12</td>\n",
       "      <td>510</td>\n",
       "      <td>A Party Song (The Walk of Shame)</td>\n",
       "      <td>200</td>\n",
       "      <td>1542071549796</td>\n",
       "      <td>\"Mozilla/5.0 (Windows NT 6.3; WOW64) AppleWebK...</td>\n",
       "      <td>51</td>\n",
       "      <td>1</td>\n",
       "      <td>1.542071549796E9</td>\n",
       "    </tr>\n",
       "    <tr>\n",
       "      <th>4</th>\n",
       "      <td>Nik &amp; Jay</td>\n",
       "      <td>Logged In</td>\n",
       "      <td>Wyatt</td>\n",
       "      <td>M</td>\n",
       "      <td>0</td>\n",
       "      <td>Scott</td>\n",
       "      <td>196.51873</td>\n",
       "      <td>free</td>\n",
       "      <td>Eureka-Arcata-Fortuna, CA</td>\n",
       "      <td>PUT</td>\n",
       "      <td>NextSong</td>\n",
       "      <td>1.540872e+12</td>\n",
       "      <td>379</td>\n",
       "      <td>Pop-Pop!</td>\n",
       "      <td>200</td>\n",
       "      <td>1542079142796</td>\n",
       "      <td>Mozilla/5.0 (Windows NT 6.1; WOW64; Trident/7....</td>\n",
       "      <td>9</td>\n",
       "      <td>3</td>\n",
       "      <td>1.542079142796E9</td>\n",
       "    </tr>\n",
       "  </tbody>\n",
       "</table>\n",
       "</div>"
      ],
      "text/plain": [
       "         artist       auth firstName gender  itemInSession  lastName  \\\n",
       "0          None  Logged In     Kevin      M              0  Arellano   \n",
       "1            Fu  Logged In     Kevin      M              1  Arellano   \n",
       "2          None  Logged In      Maia      F              0     Burke   \n",
       "3  All Time Low  Logged In      Maia      F              1     Burke   \n",
       "4     Nik & Jay  Logged In     Wyatt      M              0     Scott   \n",
       "\n",
       "      length level                              location method      page  \\\n",
       "0        NaN  free               Harrisburg-Carlisle, PA    GET      Home   \n",
       "1  280.05832  free               Harrisburg-Carlisle, PA    PUT  NextSong   \n",
       "2        NaN  free  Houston-The Woodlands-Sugar Land, TX    GET      Home   \n",
       "3  177.84118  free  Houston-The Woodlands-Sugar Land, TX    PUT  NextSong   \n",
       "4  196.51873  free             Eureka-Arcata-Fortuna, CA    PUT  NextSong   \n",
       "\n",
       "   registration  sessionId                              song  status  \\\n",
       "0  1.540007e+12        514                              None     200   \n",
       "1  1.540007e+12        514                           Ja I Ty     200   \n",
       "2  1.540677e+12        510                              None     200   \n",
       "3  1.540677e+12        510  A Party Song (The Walk of Shame)     200   \n",
       "4  1.540872e+12        379                          Pop-Pop!     200   \n",
       "\n",
       "              ts                                          userAgent userId  \\\n",
       "0  1542069417796  \"Mozilla/5.0 (Macintosh; Intel Mac OS X 10_9_4...     66   \n",
       "1  1542069637796  \"Mozilla/5.0 (Macintosh; Intel Mac OS X 10_9_4...     66   \n",
       "2  1542071524796  \"Mozilla/5.0 (Windows NT 6.3; WOW64) AppleWebK...     51   \n",
       "3  1542071549796  \"Mozilla/5.0 (Windows NT 6.3; WOW64) AppleWebK...     51   \n",
       "4  1542079142796  Mozilla/5.0 (Windows NT 6.1; WOW64; Trident/7....      9   \n",
       "\n",
       "  hour        start_time  \n",
       "0    0  1.542069417796E9  \n",
       "1    0  1.542069637796E9  \n",
       "2    1  1.542071524796E9  \n",
       "3    1  1.542071549796E9  \n",
       "4    3  1.542079142796E9  "
      ]
     },
     "execution_count": 86,
     "metadata": {},
     "output_type": "execute_result"
    }
   ],
   "source": [
    "# Get timestamp\n",
    "get_timestamp = udf(lambda x: x/1000.0)\n",
    "log_df = log_df.withColumn(\"start_time\", get_timestamp(log_df.ts))\n",
    "\n",
    "log_df.createOrReplaceTempView(\"staging_events\")\n",
    "\n",
    "log_df.toPandas().head()"
   ]
  },
  {
   "cell_type": "code",
   "execution_count": 93,
   "metadata": {
    "editable": true
   },
   "outputs": [
    {
     "name": "stdout",
     "output_type": "stream",
     "text": [
      "+----------------+\n",
      "|      start_time|\n",
      "+----------------+\n",
      "|1.542115408796E9|\n",
      "|1.542118818796E9|\n",
      "|1.542128784796E9|\n",
      "|1.542129654796E9|\n",
      "|1.542135080796E9|\n",
      "|1.542139216796E9|\n",
      "|1.542139469796E9|\n",
      "|1.542143755796E9|\n",
      "|1.542123180796E9|\n",
      "|1.542146550796E9|\n",
      "|1.542091623796E9|\n",
      "|1.542139793796E9|\n",
      "|1.542144812796E9|\n",
      "|1.542127338796E9|\n",
      "|1.542099785796E9|\n",
      "|1.542120547796E9|\n",
      "|1.542144853796E9|\n",
      "|1.542146918796E9|\n",
      "|1.542105601796E9|\n",
      "|1.542150110796E9|\n",
      "+----------------+\n",
      "only showing top 20 rows\n",
      "\n"
     ]
    }
   ],
   "source": [
    "spark.sql(\"\"\"\n",
    "        SELECT DISTINCT \n",
    "            start_time\n",
    "        FROM staging_events\n",
    "        WHERE start_time IS NOT NULL\n",
    "    \"\"\").show()\n",
    "    "
   ]
  },
  {
   "cell_type": "code",
   "execution_count": 105,
   "metadata": {
    "editable": true
   },
   "outputs": [
    {
     "data": {
      "text/plain": [
       "<function __main__.<lambda>(x)>"
      ]
     },
     "execution_count": 105,
     "metadata": {},
     "output_type": "execute_result"
    }
   ],
   "source": [
    "spark.udf.register(\"get_hour\", lambda x: datetime.fromtimestamp(x).hour)\n",
    "spark.udf.register(\"get_day\", lambda x: datetime.fromtimestamp(x).day)\n",
    "spark.udf.register(\"get_week\", lambda x: datetime.fromtimestamp(x).isocalendar()[1])\n",
    "spark.udf.register(\"get_month\", lambda x: datetime.fromtimestamp(x).month)\n",
    "spark.udf.register(\"get_year\", lambda x: datetime.fromtimestamp(x).year)\n",
    "spark.udf.register(\"get_weekday\", lambda x: datetime.fromtimestamp(x).weekday())"
   ]
  },
  {
   "cell_type": "code",
   "execution_count": 106,
   "metadata": {
    "editable": true
   },
   "outputs": [
    {
     "name": "stdout",
     "output_type": "stream",
     "text": [
      "+----------------+--------------------+-------------------+--------------------+---------------------+--------------------+-----------------------+\n",
      "|      start_time|get_hour(start_time)|get_day(start_time)|get_week(start_time)|get_month(start_time)|get_year(start_time)|get_weekday(start_time)|\n",
      "+----------------+--------------------+-------------------+--------------------+---------------------+--------------------+-----------------------+\n",
      "|1.542148786796E9|                  22|                 13|                  46|                   11|                2018|                      1|\n",
      "|1.542121737796E9|                  15|                 13|                  46|                   11|                2018|                      1|\n",
      "|1.542123180796E9|                  15|                 13|                  46|                   11|                2018|                      1|\n",
      "|1.542101346796E9|                   9|                 13|                  46|                   11|                2018|                      1|\n",
      "|1.542135080796E9|                  18|                 13|                  46|                   11|                2018|                      1|\n",
      "|1.542150905796E9|                  23|                 13|                  46|                   11|                2018|                      1|\n",
      "|1.542106694796E9|                  10|                 13|                  46|                   11|                2018|                      1|\n",
      "|1.542140035796E9|                  20|                 13|                  46|                   11|                2018|                      1|\n",
      "|1.542150621796E9|                  23|                 13|                  46|                   11|                2018|                      1|\n",
      "|1.542071524796E9|                   1|                 13|                  46|                   11|                2018|                      1|\n",
      "|1.542115464796E9|                  13|                 13|                  46|                   11|                2018|                      1|\n",
      "|1.542122954796E9|                  15|                 13|                  46|                   11|                2018|                      1|\n",
      "|1.542124279796E9|                  15|                 13|                  46|                   11|                2018|                      1|\n",
      "|1.542143308796E9|                  21|                 13|                  46|                   11|                2018|                      1|\n",
      "|1.542130782796E9|                  17|                 13|                  46|                   11|                2018|                      1|\n",
      "|1.542148549796E9|                  22|                 13|                  46|                   11|                2018|                      1|\n",
      "|1.542125170796E9|                  16|                 13|                  46|                   11|                2018|                      1|\n",
      "|1.542128058796E9|                  16|                 13|                  46|                   11|                2018|                      1|\n",
      "|1.542132026796E9|                  18|                 13|                  46|                   11|                2018|                      1|\n",
      "|1.542152441796E9|                  23|                 13|                  46|                   11|                2018|                      1|\n",
      "+----------------+--------------------+-------------------+--------------------+---------------------+--------------------+-----------------------+\n",
      "only showing top 20 rows\n",
      "\n"
     ]
    }
   ],
   "source": [
    "spark.sql(\"\"\"\n",
    "        SELECT DISTINCT \n",
    "            start_time, \n",
    "            get_hour(start_time),\n",
    "            get_day(start_time),\n",
    "            get_week(start_time),\n",
    "            get_month(start_time),\n",
    "            get_year(start_time),\n",
    "            get_weekday(start_time)\n",
    "        FROM staging_events\n",
    "        WHERE start_time IS NOT NULL\n",
    "    \"\"\").show()"
   ]
  },
  {
   "cell_type": "code",
   "execution_count": null,
   "metadata": {
    "editable": true
   },
   "outputs": [],
   "source": []
  }
 ],
 "metadata": {
  "kernelspec": {
   "display_name": "Python 3",
   "language": "python",
   "name": "python3"
  },
  "language_info": {
   "codemirror_mode": {
    "name": "ipython",
    "version": 3
   },
   "file_extension": ".py",
   "mimetype": "text/x-python",
   "name": "python",
   "nbconvert_exporter": "python",
   "pygments_lexer": "ipython3",
   "version": "3.6.3"
  }
 },
 "nbformat": 4,
 "nbformat_minor": 4
}
